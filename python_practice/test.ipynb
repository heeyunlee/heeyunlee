{
 "cells": [
  {
   "cell_type": "code",
   "execution_count": 184,
   "metadata": {},
   "outputs": [],
   "source": [
    "from typing import List"
   ]
  },
  {
   "cell_type": "code",
   "execution_count": 210,
   "metadata": {},
   "outputs": [],
   "source": [
    "class Solution:\n",
    "    def threeSum(self, nums: List[int]) -> List[List[int]]:\n",
    "        if len(nums) < 3:\n",
    "            return []\n",
    "\n",
    "        nums.sort()\n",
    "        result = []\n",
    "\n",
    "        for i, item in enumerate(nums[:-2]):\n",
    "            if i > 0 and nums[i-1] == nums[i]:\n",
    "                continue\n",
    "\n",
    "            l, r = i+1, len(nums) - 1\n",
    "\n",
    "            while l < r:\n",
    "                threesum = nums[l] + nums[r] + item\n",
    "\n",
    "                if threesum == 0:\n",
    "                    result.append([nums[l], nums[r], item])\n",
    "\n",
    "                    l += 1\n",
    "                    r -= 1\n",
    "\n",
    "                    while l < r and nums[l] == nums[l-1]:\n",
    "                        l += 1\n",
    "                    \n",
    "                elif threesum > 0:\n",
    "                    r -= 1\n",
    "                else:\n",
    "                    l+=1\n",
    "        \n",
    "        return result "
   ]
  },
  {
   "cell_type": "code",
   "execution_count": 211,
   "metadata": {},
   "outputs": [
    {
     "data": {
      "text/plain": [
       "[[-1, 2, -1], [0, 1, -1]]"
      ]
     },
     "execution_count": 211,
     "metadata": {},
     "output_type": "execute_result"
    }
   ],
   "source": [
    "s = Solution()\n",
    "a = [-1,0,1,2,-1,-4]\n",
    "s.threeSum(a)"
   ]
  }
 ],
 "metadata": {
  "interpreter": {
   "hash": "ed7cf9a39b27818acd42e7966255cfb8e91c0a4a346a1bf836e8b24b6cdfba19"
  },
  "kernelspec": {
   "display_name": "Python 3.8.5 ('base')",
   "language": "python",
   "name": "python3"
  },
  "language_info": {
   "codemirror_mode": {
    "name": "ipython",
    "version": 3
   },
   "file_extension": ".py",
   "mimetype": "text/x-python",
   "name": "python",
   "nbconvert_exporter": "python",
   "pygments_lexer": "ipython3",
   "version": "3.8.5"
  },
  "orig_nbformat": 4
 },
 "nbformat": 4,
 "nbformat_minor": 2
}
